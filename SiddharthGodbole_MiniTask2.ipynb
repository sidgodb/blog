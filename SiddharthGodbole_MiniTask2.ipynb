{
  "nbformat": 4,
  "nbformat_minor": 0,
  "metadata": {
    "colab": {
      "name": "SiddharthGodbole_MiniTask2",
      "provenance": [],
      "collapsed_sections": [
        "ATnR9JLmdhYP",
        "8JRck629-Po0",
        "bHC9y9zgcReB",
        "hFnMHhaztMxk",
        "rahuipARxi47"
      ],
      "include_colab_link": true
    },
    "kernelspec": {
      "name": "python3",
      "display_name": "Python 3"
    },
    "accelerator": "GPU"
  },
  "cells": [
    {
      "cell_type": "markdown",
      "metadata": {
        "id": "view-in-github",
        "colab_type": "text"
      },
      "source": [
        "<a href=\"https://colab.research.google.com/github/sidgodb/blog/blob/master/SiddharthGodbole_MiniTask2.ipynb\" target=\"_parent\"><img src=\"https://colab.research.google.com/assets/colab-badge.svg\" alt=\"Open In Colab\"/></a>"
      ]
    },
    {
      "cell_type": "markdown",
      "metadata": {
        "id": "1JJrBRSM4W0z"
      },
      "source": [
        "# Minitask 2 - ADAMS Next Top Model \n",
        "\n",
        "> Identifying and predicting the star rating after analysing the reviews \n",
        "\n",
        "**Contributors:**\n",
        ">Siddharth Godbole (601552)\n",
        "<br> Toby Chelton (601819)\n",
        "<br>Veronika Simoncikova (601550)\n",
        "\n"
      ]
    },
    {
      "cell_type": "markdown",
      "metadata": {
        "id": "ejvW03zcZroj"
      },
      "source": [
        "# Loading the data and packages"
      ]
    },
    {
      "cell_type": "code",
      "metadata": {
        "id": "X7Wg9Co2LnRT",
        "colab": {
          "base_uri": "https://localhost:8080/",
          "height": 102
        },
        "outputId": "f1f5fe7a-357c-4054-b713-dcf54bac81a0"
      },
      "source": [
        "#setup code\n",
        "#main packages from Ex.4\n",
        "\n",
        "import pandas as pd\n",
        "import numpy as np\n",
        "import matplotlib.pyplot as plt\n",
        "import re #regular expressions\n",
        "from sklearn.preprocessing import LabelEncoder\n",
        "from sklearn.model_selection import train_test_split\n",
        "from keras.utils import np_utils\n",
        "\n",
        "#for word tokenization\n",
        "import nltk\n",
        "nltk.download('punkt')\n",
        "nltk.download('stopwords')\n",
        "from nltk.tokenize import word_tokenize\n",
        "\n",
        "import keras\n",
        "from keras.models import Sequential\n",
        "# we will need to import some core layers and some utilities\n",
        "from keras.layers import Dense, Dropout, Activation, Flatten\n",
        "from keras.utils import np_utils\n",
        "\n",
        "# Keras\n",
        "from keras.preprocessing.text import Tokenizer\n",
        "from keras.preprocessing.sequence import pad_sequences\n",
        "from keras.models import Sequential\n",
        "from keras.layers import Dense, Flatten, LSTM, Conv1D, MaxPooling1D, Dropout, Activation\n",
        "from keras.layers.embeddings import Embedding\n",
        "## Plotly\n",
        "import plotly.offline as py\n",
        "import plotly.graph_objs as go\n",
        "py.init_notebook_mode(connected=True)\n",
        "# Others\n",
        "import nltk\n",
        "import string\n",
        "import numpy as np\n",
        "import pandas as pd\n",
        "from nltk.corpus import stopwords\n",
        "\n",
        "from sklearn.manifold import TSNE\n",
        "\n",
        "from __future__ import print_function\n",
        "from nltk.stem import *\n"
      ],
      "execution_count": null,
      "outputs": [
        {
          "output_type": "stream",
          "text": [
            "Using TensorFlow backend.\n"
          ],
          "name": "stderr"
        },
        {
          "output_type": "stream",
          "text": [
            "[nltk_data] Downloading package punkt to /root/nltk_data...\n",
            "[nltk_data]   Unzipping tokenizers/punkt.zip.\n",
            "[nltk_data] Downloading package stopwords to /root/nltk_data...\n",
            "[nltk_data]   Unzipping corpora/stopwords.zip.\n"
          ],
          "name": "stdout"
        },
        {
          "output_type": "display_data",
          "data": {
            "text/vnd.plotly.v1+html": "<script type=\"text/javascript\">window.PlotlyConfig = {MathJaxConfig: 'local'};</script><script type=\"text/javascript\">if (window.MathJax) {MathJax.Hub.Config({SVG: {font: \"STIX-Web\"}});}</script><script>requirejs.config({paths: { 'plotly': ['https://cdn.plot.ly/plotly-latest.min']},});if(!window._Plotly) {require(['plotly'],function(plotly) {window._Plotly=plotly;});}</script>",
            "text/html": [
              "<script type=\"text/javascript\">window.PlotlyConfig = {MathJaxConfig: 'local'};</script><script type=\"text/javascript\">if (window.MathJax) {MathJax.Hub.Config({SVG: {font: \"STIX-Web\"}});}</script><script>requirejs.config({paths: { 'plotly': ['https://cdn.plot.ly/plotly-latest.min']},});if(!window._Plotly) {require(['plotly'],function(plotly) {window._Plotly=plotly;});}</script>"
            ]
          },
          "metadata": {
            "tags": []
          }
        }
      ]
    },
    {
      "cell_type": "code",
      "metadata": {
        "id": "Pb3O8r2vByk0",
        "colab": {
          "base_uri": "https://localhost:8080/",
          "height": 394
        },
        "outputId": "bdea9a58-be86-4559-abb4-297d0a05b58d"
      },
      "source": [
        "#setup code\n",
        "#code to load in data https://medium.freecodecamp.org/how-to-transfer-large-files-to-google-colab-and-remote-jupyter-notebooks-26ca252892fa\n",
        "\n",
        "!pip install pydrive #if needed\n",
        "\n",
        "import os\n",
        "from pydrive.auth import GoogleAuth\n",
        "from pydrive.drive import GoogleDrive\n",
        "from google.colab import auth\n",
        "from oauth2client.client import GoogleCredentials\n",
        "\n",
        "#the file is public so this works for any Google Drive\n",
        "\n",
        "auth.authenticate_user()\n",
        "gauth = GoogleAuth()\n",
        "gauth.credentials = GoogleCredentials.get_application_default()\n",
        "drive = GoogleDrive(gauth)\n"
      ],
      "execution_count": null,
      "outputs": [
        {
          "output_type": "stream",
          "text": [
            "Collecting pydrive\n",
            "\u001b[?25l  Downloading https://files.pythonhosted.org/packages/52/e0/0e64788e5dd58ce2d6934549676243dc69d982f198524be9b99e9c2a4fd5/PyDrive-1.3.1.tar.gz (987kB)\n",
            "\u001b[K     |████████████████████████████████| 993kB 3.4MB/s \n",
            "\u001b[?25hRequirement already satisfied: google-api-python-client>=1.2 in /usr/local/lib/python3.6/dist-packages (from pydrive) (1.7.9)\n",
            "Requirement already satisfied: oauth2client>=4.0.0 in /usr/local/lib/python3.6/dist-packages (from pydrive) (4.1.3)\n",
            "Requirement already satisfied: PyYAML>=3.0 in /usr/local/lib/python3.6/dist-packages (from pydrive) (3.13)\n",
            "Requirement already satisfied: six<2dev,>=1.6.1 in /usr/local/lib/python3.6/dist-packages (from google-api-python-client>=1.2->pydrive) (1.12.0)\n",
            "Requirement already satisfied: google-auth-httplib2>=0.0.3 in /usr/local/lib/python3.6/dist-packages (from google-api-python-client>=1.2->pydrive) (0.0.3)\n",
            "Requirement already satisfied: uritemplate<4dev,>=3.0.0 in /usr/local/lib/python3.6/dist-packages (from google-api-python-client>=1.2->pydrive) (3.0.0)\n",
            "Requirement already satisfied: google-auth>=1.4.1 in /usr/local/lib/python3.6/dist-packages (from google-api-python-client>=1.2->pydrive) (1.4.2)\n",
            "Requirement already satisfied: httplib2<1dev,>=0.9.2 in /usr/local/lib/python3.6/dist-packages (from google-api-python-client>=1.2->pydrive) (0.11.3)\n",
            "Requirement already satisfied: pyasn1>=0.1.7 in /usr/local/lib/python3.6/dist-packages (from oauth2client>=4.0.0->pydrive) (0.4.5)\n",
            "Requirement already satisfied: pyasn1-modules>=0.0.5 in /usr/local/lib/python3.6/dist-packages (from oauth2client>=4.0.0->pydrive) (0.2.5)\n",
            "Requirement already satisfied: rsa>=3.1.4 in /usr/local/lib/python3.6/dist-packages (from oauth2client>=4.0.0->pydrive) (4.0)\n",
            "Requirement already satisfied: cachetools>=2.0.0 in /usr/local/lib/python3.6/dist-packages (from google-auth>=1.4.1->google-api-python-client>=1.2->pydrive) (3.1.1)\n",
            "Building wheels for collected packages: pydrive\n",
            "  Building wheel for pydrive (setup.py) ... \u001b[?25l\u001b[?25hdone\n",
            "  Stored in directory: /root/.cache/pip/wheels/fa/d2/9a/d3b6b506c2da98289e5d417215ce34b696db856643bad779f4\n",
            "Successfully built pydrive\n",
            "Installing collected packages: pydrive\n",
            "Successfully installed pydrive-1.3.1\n"
          ],
          "name": "stdout"
        }
      ]
    },
    {
      "cell_type": "markdown",
      "metadata": {
        "id": "SGHh24bOxOp0"
      },
      "source": [
        "**Uploading the datasets**\n",
        "We have upload all the training and testing datasets MC2 and MC2test.csv \n",
        "<br> Along with that we are using **Glove** dataset. This Glove dataset has been downloaded and then uploaded back. There are various different versions of Glove that we could use - different sizes and sources. What we have here is 6 billion words each represented as 100 length vector.  "
      ]
    },
    {
      "cell_type": "code",
      "metadata": {
        "id": "YD_3B1cIB8nq",
        "colab": {
          "base_uri": "https://localhost:8080/",
          "height": 510
        },
        "outputId": "a0ae53c5-eda8-4063-d0e5-5c03f115306a"
      },
      "source": [
        "#setup code\n",
        "#code to tell Colab what to import from Google Drive\n",
        "train = drive.CreateFile({'id': '1ylh9tt89V3nezuOKUxxQMDPb1kizngdP'})\n",
        "train.GetContentFile('MC2.csv')\n",
        "\n",
        "test = drive.CreateFile({'id': '1d9JqCjNb-AXh25Pi-i6Hf94SXsueXF5s'})\n",
        "test.GetContentFile('MC2test.csv')\n",
        "\n",
        "\n",
        "glove = drive.CreateFile({'id': '1fx_E-moM2aUJsdQ4KRC2zRQPE3fxfGEj'})\n",
        "glove.GetContentFile('glove.6B.100d.txt')\n",
        "\n",
        "#setup code\n",
        "#reading in data as a pandas dataframe\n",
        "\n",
        "train = pd.read_csv('MC2.csv')\n",
        "test=pd.read_csv('MC2test.csv')\n",
        "\n",
        "\n",
        "\n"
      ],
      "execution_count": null,
      "outputs": [
        {
          "output_type": "stream",
          "text": [
            "WARNING: Logging before flag parsing goes to stderr.\n",
            "W0630 08:04:51.322088 139685384861568 __init__.py:44] file_cache is unavailable when using oauth2client >= 4.0.0 or google-auth\n",
            "Traceback (most recent call last):\n",
            "  File \"/usr/local/lib/python3.6/dist-packages/googleapiclient/discovery_cache/__init__.py\", line 36, in autodetect\n",
            "    from google.appengine.api import memcache\n",
            "ModuleNotFoundError: No module named 'google.appengine'\n",
            "\n",
            "During handling of the above exception, another exception occurred:\n",
            "\n",
            "Traceback (most recent call last):\n",
            "  File \"/usr/local/lib/python3.6/dist-packages/googleapiclient/discovery_cache/file_cache.py\", line 33, in <module>\n",
            "    from oauth2client.contrib.locked_file import LockedFile\n",
            "ModuleNotFoundError: No module named 'oauth2client.contrib.locked_file'\n",
            "\n",
            "During handling of the above exception, another exception occurred:\n",
            "\n",
            "Traceback (most recent call last):\n",
            "  File \"/usr/local/lib/python3.6/dist-packages/googleapiclient/discovery_cache/file_cache.py\", line 37, in <module>\n",
            "    from oauth2client.locked_file import LockedFile\n",
            "ModuleNotFoundError: No module named 'oauth2client.locked_file'\n",
            "\n",
            "During handling of the above exception, another exception occurred:\n",
            "\n",
            "Traceback (most recent call last):\n",
            "  File \"/usr/local/lib/python3.6/dist-packages/googleapiclient/discovery_cache/__init__.py\", line 41, in autodetect\n",
            "    from . import file_cache\n",
            "  File \"/usr/local/lib/python3.6/dist-packages/googleapiclient/discovery_cache/file_cache.py\", line 41, in <module>\n",
            "    'file_cache is unavailable when using oauth2client >= 4.0.0 or google-auth')\n",
            "ImportError: file_cache is unavailable when using oauth2client >= 4.0.0 or google-auth\n"
          ],
          "name": "stderr"
        }
      ]
    },
    {
      "cell_type": "markdown",
      "metadata": {
        "id": "kib0DPTTrv-L"
      },
      "source": [
        "# Exploring the dataset"
      ]
    },
    {
      "cell_type": "markdown",
      "metadata": {
        "id": "E0PvOHafK_Gi"
      },
      "source": [
        "<br> The data given to use includes different fields liked product_id, product_title, star_rating, helpful_votes, total_votes, verified_purchases and ofcourse the review_headline and review_body. \n",
        "<br> Our aim is to predict the star_rating based on the different fields provided to us. "
      ]
    },
    {
      "cell_type": "code",
      "metadata": {
        "id": "EfSErpitsLoZ",
        "colab": {
          "base_uri": "https://localhost:8080/",
          "height": 405
        },
        "outputId": "d4576189-e4aa-4fcc-9ea2-b743bcf76762"
      },
      "source": [
        "train.head(6)"
      ],
      "execution_count": null,
      "outputs": [
        {
          "output_type": "execute_result",
          "data": {
            "text/html": [
              "<div>\n",
              "<style scoped>\n",
              "    .dataframe tbody tr th:only-of-type {\n",
              "        vertical-align: middle;\n",
              "    }\n",
              "\n",
              "    .dataframe tbody tr th {\n",
              "        vertical-align: top;\n",
              "    }\n",
              "\n",
              "    .dataframe thead th {\n",
              "        text-align: right;\n",
              "    }\n",
              "</style>\n",
              "<table border=\"1\" class=\"dataframe\">\n",
              "  <thead>\n",
              "    <tr style=\"text-align: right;\">\n",
              "      <th></th>\n",
              "      <th>Unnamed: 0</th>\n",
              "      <th>product_id</th>\n",
              "      <th>product_title</th>\n",
              "      <th>star_rating</th>\n",
              "      <th>helpful_votes</th>\n",
              "      <th>total_votes</th>\n",
              "      <th>verified_purchase</th>\n",
              "      <th>review_headline</th>\n",
              "      <th>review_body</th>\n",
              "    </tr>\n",
              "  </thead>\n",
              "  <tbody>\n",
              "    <tr>\n",
              "      <th>0</th>\n",
              "      <td>1</td>\n",
              "      <td>0983797706</td>\n",
              "      <td>Igniting Your True Purpose and Passion: A Busi...</td>\n",
              "      <td>5</td>\n",
              "      <td>0</td>\n",
              "      <td>0</td>\n",
              "      <td>N</td>\n",
              "      <td>This is an inspirational and insightful book t...</td>\n",
              "      <td>This is an inspirational and insightful book t...</td>\n",
              "    </tr>\n",
              "    <tr>\n",
              "      <th>1</th>\n",
              "      <td>2</td>\n",
              "      <td>1423151283</td>\n",
              "      <td>The Duckling Gets a Cookie!? (Pigeon)</td>\n",
              "      <td>5</td>\n",
              "      <td>0</td>\n",
              "      <td>0</td>\n",
              "      <td>N</td>\n",
              "      <td>Loved it!</td>\n",
              "      <td>My twins are 3 and they love the pigeon books!...</td>\n",
              "    </tr>\n",
              "    <tr>\n",
              "      <th>2</th>\n",
              "      <td>3</td>\n",
              "      <td>1445604752</td>\n",
              "      <td>Spitfire Ace of Aces: The Wartime Story of Joh...</td>\n",
              "      <td>4</td>\n",
              "      <td>2</td>\n",
              "      <td>2</td>\n",
              "      <td>N</td>\n",
              "      <td>Engaging Account of the Combat Career of an RA...</td>\n",
              "      <td>Back in 1964, I was introduced to 'Johnnie' Jo...</td>\n",
              "    </tr>\n",
              "    <tr>\n",
              "      <th>3</th>\n",
              "      <td>4</td>\n",
              "      <td>0393057941</td>\n",
              "      <td>The Bread Bible</td>\n",
              "      <td>5</td>\n",
              "      <td>0</td>\n",
              "      <td>0</td>\n",
              "      <td>N</td>\n",
              "      <td>Great book for beginners</td>\n",
              "      <td>I disagree with those reviews that say this is...</td>\n",
              "    </tr>\n",
              "    <tr>\n",
              "      <th>4</th>\n",
              "      <td>5</td>\n",
              "      <td>1608322858</td>\n",
              "      <td>Do It Well. Make It Fun.: The Key to Success i...</td>\n",
              "      <td>3</td>\n",
              "      <td>2</td>\n",
              "      <td>2</td>\n",
              "      <td>N</td>\n",
              "      <td>Left me wanting more</td>\n",
              "      <td>Reading this book, I hoped to find more about ...</td>\n",
              "    </tr>\n",
              "    <tr>\n",
              "      <th>5</th>\n",
              "      <td>6</td>\n",
              "      <td>B001FVQAPW</td>\n",
              "      <td>Myth and Christianity: An Inquiry into the Pos...</td>\n",
              "      <td>5</td>\n",
              "      <td>3</td>\n",
              "      <td>3</td>\n",
              "      <td>N</td>\n",
              "      <td>A \"SEMI-DIALOGUE\" BETWEEN TWO TOWERING 20TH CE...</td>\n",
              "      <td>Rudolf Bultmann (1884-1976) was a German theol...</td>\n",
              "    </tr>\n",
              "  </tbody>\n",
              "</table>\n",
              "</div>"
            ],
            "text/plain": [
              "   Unnamed: 0  ...                                        review_body\n",
              "0           1  ...  This is an inspirational and insightful book t...\n",
              "1           2  ...  My twins are 3 and they love the pigeon books!...\n",
              "2           3  ...  Back in 1964, I was introduced to 'Johnnie' Jo...\n",
              "3           4  ...  I disagree with those reviews that say this is...\n",
              "4           5  ...  Reading this book, I hoped to find more about ...\n",
              "5           6  ...  Rudolf Bultmann (1884-1976) was a German theol...\n",
              "\n",
              "[6 rows x 9 columns]"
            ]
          },
          "metadata": {
            "tags": []
          },
          "execution_count": 5
        }
      ]
    },
    {
      "cell_type": "markdown",
      "metadata": {
        "id": "6_0sWGVDLXwQ"
      },
      "source": [
        "> In the given dataset, the number of reviews receiving 5 star rating is much higher compared to the other ratings. However, we are dealing with a dataset which has a great amount of data and hence, our modeling approach should be able to handle this. "
      ]
    },
    {
      "cell_type": "code",
      "metadata": {
        "id": "vfk7_c4frw0v",
        "colab": {
          "base_uri": "https://localhost:8080/",
          "height": 281
        },
        "outputId": "ef238a2f-566d-4a4f-e4d0-6c4d2b83396b"
      },
      "source": [
        "plt.hist(train.star_rating, bins=5,alpha=0.5, color='gold', rwidth=0.7) #density=True if want to see probability of a rating\n",
        "plt.xticks([1.4,2.2,3,3.8,4.6],['*','**', '***','****','*****'])\n",
        "plt.ylabel('Number of ratings')\n",
        "plt.title(\"Ratings by Stars\")\n",
        "\n",
        "plt.show()\n",
        "\n",
        "#most reviews have 5 stars"
      ],
      "execution_count": null,
      "outputs": [
        {
          "output_type": "display_data",
          "data": {
            "image/png": "[encoded data removed]",
            "text/plain": [
              "<Figure size 432x288 with 1 Axes>"
            ]
          },
          "metadata": {
            "tags": []
          }
        }
      ]
    },
    {
      "cell_type": "markdown",
      "metadata": {
        "id": "hGpl6C6PdUez"
      },
      "source": [
        "## Data Preparation\n",
        "\n",
        "> Checking the total number of rows, cleaning the text involving processes like removing stop words, lower casing everything, lemmatization and stemming. This is to make the text processing easier. "
      ]
    },
    {
      "cell_type": "code",
      "metadata": {
        "id": "BXaqVHH5VhTY",
        "colab": {
          "base_uri": "https://localhost:8080/",
          "height": 34
        },
        "outputId": "29eebd99-8ea6-427b-c3ee-cf8776a4e3cb"
      },
      "source": [
        "train.shape\n",
        "#the dataset has over 1 million rows"
      ],
      "execution_count": null,
      "outputs": [
        {
          "output_type": "execute_result",
          "data": {
            "text/plain": [
              "(1099209, 9)"
            ]
          },
          "metadata": {
            "tags": []
          },
          "execution_count": 8
        }
      ]
    },
    {
      "cell_type": "markdown",
      "metadata": {
        "id": "W1dzYGBzhbNr"
      },
      "source": [
        "There's a great amount of data (over 1 million) -  let's start by just working with a small part of the train set in order to speed up computation, say 10 percent. "
      ]
    },
    {
      "cell_type": "markdown",
      "metadata": {
        "id": "rDJM3hvFatgW"
      },
      "source": [
        "\n",
        "\n",
        "For going ahead with our analyses, we tried doing two approaches : \n",
        "\n",
        "<br> 1. Analysis entirely with review_body.\n",
        "- Although the review_title idea sounds promising, many times people write detailed and descriptive reviews and then give a star_rating. \n",
        "- In this case, analysing the entire review_body would make more sense. \n",
        "\n",
        "<br> 2. Analysing entirely with review_headline \n",
        "- Our understanding in this case was that it has a shorter length and hence computationally less intense. \n",
        "- People normally would have the 'exact' emotion out when writing the review_headline making it easy to link to the star_rating \n",
        "\n"
      ]
    },
    {
      "cell_type": "code",
      "metadata": {
        "id": "IxGwLiOFKmsi"
      },
      "source": [
        "#10 percent of data\n",
        "train2 = train.sample(100000,random_state=123,axis=0)\n",
        "\n",
        "train2=train2[[\"star_rating\",\"review_body\"]]\n",
        "train2.review_body=train2.review_body.astype(str)\n",
        "train2.star_rating=train2.star_rating.astype(str)\n"
      ],
      "execution_count": null,
      "outputs": []
    },
    {
      "cell_type": "markdown",
      "metadata": {
        "id": "YdQhRlFPy7IZ"
      },
      "source": [
        "Before we do anything, we must set some test data aside"
      ]
    },
    {
      "cell_type": "code",
      "metadata": {
        "id": "86om4jB2rZGJ",
        "colab": {
          "base_uri": "https://localhost:8080/",
          "height": 34
        },
        "outputId": "bca3d1d1-397d-43f2-d7d0-419bbc2974a2"
      },
      "source": [
        "from sklearn.model_selection import train_test_split\n",
        "train ,test = train_test_split(train2, test_size=0.30, random_state=9)\n",
        "\n",
        "train.shape\n"
      ],
      "execution_count": null,
      "outputs": [
        {
          "output_type": "execute_result",
          "data": {
            "text/plain": [
              "(70000, 2)"
            ]
          },
          "metadata": {
            "tags": []
          },
          "execution_count": 10
        }
      ]
    },
    {
      "cell_type": "markdown",
      "metadata": {
        "id": "eb8JM9NPzApr"
      },
      "source": [
        "We switch to the conventional notation for feature(s) (=X) and target (=Y):"
      ]
    },
    {
      "cell_type": "code",
      "metadata": {
        "id": "MjvKGererzwL"
      },
      "source": [
        "X=train['review_body']\n",
        "y=train['star_rating']"
      ],
      "execution_count": null,
      "outputs": []
    },
    {
      "cell_type": "markdown",
      "metadata": {
        "id": "zDRqaG6vzVu1"
      },
      "source": [
        "**Cleaning data:**\n",
        "<br>The following code is for cleaning the content of each review text that we encounter. This could be applied for 'review_body' or 'review_head' .\n",
        "<br> It removes punctuation (even though in theory this could be informative, especially exclamation marks), stop words, very short words and then some common strings that are unlikely to hold semantic information. \n",
        "<br>\n",
        "When we then test our model at the end, we'll also need to apply this 'clean_text' function on the test data."
      ]
    },
    {
      "cell_type": "code",
      "metadata": {
        "id": "rv-CZfk2dDVd"
      },
      "source": [
        "def clean_text(text):\n",
        "    \n",
        "    ## Remove punctuation\n",
        "    text = text.translate(string.punctuation)\n",
        "    \n",
        "    ## Convert words to lower case and split them\n",
        "    text = text.lower().split()\n",
        "    \n",
        "    ## Remove stop words\n",
        "    stops = set(stopwords.words(\"english\"))\n",
        "    text = [w for w in text if not w in stops and len(w) >= 3]\n",
        "    \n",
        "    text = \" \".join(text)\n",
        "    ## Clean the text\n",
        "    text = re.sub(r\"[^A-Za-z0-9^,!.\\/'+-=]\", \" \", text)\n",
        "    text = re.sub(r\"what's\", \"what is \", text)\n",
        "    text = re.sub(r\"\\'s\", \" \", text)\n",
        "    text = re.sub(r\"\\'ve\", \" have \", text)\n",
        "    text = re.sub(r\"n't\", \" not \", text)\n",
        "    text = re.sub(r\"i'm\", \"i am \", text)\n",
        "    text = re.sub(r\"\\'re\", \" are \", text)\n",
        "    text = re.sub(r\"\\'d\", \" would \", text)\n",
        "    text = re.sub(r\"\\'ll\", \" will \", text)\n",
        "    text = re.sub(r\",\", \" \", text)\n",
        "    text = re.sub(r\"\\.\", \" \", text)\n",
        "    text = re.sub(r\"!\", \" ! \", text)\n",
        "    text = re.sub(r\"\\/\", \" \", text)\n",
        "    text = re.sub(r\"\\^\", \" ^ \", text)\n",
        "    text = re.sub(r\"\\+\", \" + \", text)\n",
        "    text = re.sub(r\"\\-\", \" - \", text)\n",
        "    text = re.sub(r\"\\=\", \" = \", text)\n",
        "    text = re.sub(r\"'\", \" \", text)\n",
        "    text = re.sub(r\"(\\d+)(k)\", r\"\\g<1>000\", text) \n",
        "    text = re.sub(r\":\", \" : \", text)\n",
        "    text = re.sub(r\" e g \", \" eg \", text)\n",
        "    text = re.sub(r\" b g \", \" bg \", text)\n",
        "    text = re.sub(r\" u s \", \" american \", text)\n",
        "    text = re.sub(r\"\\0s\", \"0\", text)\n",
        "    text = re.sub(r\" 9 11 \", \"911\", text)\n",
        "    text = re.sub(r\"e - mail\", \"email\", text)\n",
        "    text = re.sub(r\"j k\", \"jk\", text)\n",
        "    text = re.sub(r\"\\s{2,}\", \" \", text)\n",
        "    ## Stemming\n",
        "    text = text.split()\n",
        "    stemmer = SnowballStemmer('english')\n",
        "    stemmed_words = [stemmer.stem(word) for word in text]\n",
        "    text = \" \".join(stemmed_words)\n",
        "    return text\n",
        "# apply the above function to df['text']\n",
        "X= X.map(lambda x: clean_text(x))\n"
      ],
      "execution_count": null,
      "outputs": []
    },
    {
      "cell_type": "markdown",
      "metadata": {
        "id": "lMAcAdefzz5T"
      },
      "source": [
        "Here we represent the score out of 5 as a one-hot encoded array.\n"
      ]
    },
    {
      "cell_type": "code",
      "metadata": {
        "id": "mjeyOjExf_pP"
      },
      "source": [
        "y=pd.get_dummies(y)\n",
        "y=y.values"
      ],
      "execution_count": null,
      "outputs": []
    },
    {
      "cell_type": "markdown",
      "metadata": {
        "id": "CT7qqStF0WgS"
      },
      "source": [
        "The keras tokenizer is one way to tokenize the review text into a sequence of integers\n",
        "\n",
        "<br>\n",
        "'maxlen' in the pad_sequences function controls how many words we allow to be included in a review. "
      ]
    },
    {
      "cell_type": "code",
      "metadata": {
        "id": "bdoinNzTAbWE"
      },
      "source": [
        "### Create sequence\n",
        "vocabulary_size = 50000\n",
        "tokenizer = Tokenizer(num_words= vocabulary_size)\n",
        "tokenizer.fit_on_texts(X)\n",
        "sequences = tokenizer.texts_to_sequences(X)\n",
        "X = pad_sequences(sequences, maxlen=100)"
      ],
      "execution_count": null,
      "outputs": []
    },
    {
      "cell_type": "code",
      "metadata": {
        "id": "Rpe66Osyeubq",
        "colab": {
          "base_uri": "https://localhost:8080/",
          "height": 34
        },
        "outputId": "cc282d81-f3f6-4e8c-8e32-c8b47abcdeef"
      },
      "source": [
        "X.shape"
      ],
      "execution_count": null,
      "outputs": [
        {
          "output_type": "execute_result",
          "data": {
            "text/plain": [
              "(70000, 100)"
            ]
          },
          "metadata": {
            "tags": []
          },
          "execution_count": 15
        }
      ]
    },
    {
      "cell_type": "markdown",
      "metadata": {
        "id": "CgGgWkovvhuR"
      },
      "source": [
        "Splitting the training and test dataset over here. In this case, X_val and y_val are our test datasets which will given as validation data input for keras to test for accuracy. "
      ]
    },
    {
      "cell_type": "code",
      "metadata": {
        "id": "CPZWuhsYuniq",
        "colab": {
          "base_uri": "https://localhost:8080/",
          "height": 34
        },
        "outputId": "df4de8ed-33fb-44a1-d1cf-535fafa2bee5"
      },
      "source": [
        "X_train, X_val, y_train, y_val = train_test_split(X, y, test_size=0.30, random_state=9)\n",
        "\n",
        "X_val.shape"
      ],
      "execution_count": null,
      "outputs": [
        {
          "output_type": "execute_result",
          "data": {
            "text/plain": [
              "(21000, 100)"
            ]
          },
          "metadata": {
            "tags": []
          },
          "execution_count": 16
        }
      ]
    },
    {
      "cell_type": "markdown",
      "metadata": {
        "id": "ATnR9JLmdhYP"
      },
      "source": [
        "## Model Architecture - Review_Body"
      ]
    },
    {
      "cell_type": "markdown",
      "metadata": {
        "id": "VFnH_ZB30vAN"
      },
      "source": [
        "Now that our data is cleaned and in the right shape, we start building model architecture (starting with small number of epochs). Our first basic model includes an embedding layer that is transforming the word token integers into a 100-length vector representation, and Keras tokenizer.\n",
        "<br>\n",
        "In this model the embeddings are trained at the same time as everything else.<br>\n",
        "In all following models, we use *Softmax* as an activation function in the last layer, which will assign each review a range of probabilities for each rating, with 5* being the target. <br>\n",
        "Moreover, we use *categorical crossentropy* as a loss function because our goal is non-binary classification. <br>\n",
        "We chose *adam* as the optimizer because it is straightforward to implement, computationally efficient and has little memory requirement"
      ]
    },
    {
      "cell_type": "code",
      "metadata": {
        "id": "EWPMBWm-gNw1",
        "colab": {
          "base_uri": "https://localhost:8080/",
          "height": 1000
        },
        "outputId": "23063a1a-28d0-4b8a-ee25-ec54ab0bdcf5"
      },
      "source": [
        "model = Sequential()\n",
        "model.add(Embedding(50000, 100, input_length=100))\n",
        "model.add(LSTM(200, dropout=0.5, recurrent_dropout=0.2)) #originally dropout=0.2, but was hugely overfitting\n",
        "model.add(Dense(5, activation='softmax'))\n",
        "model.compile(loss='categorical_crossentropy', optimizer='adam', metrics=['accuracy'])\n",
        "## Fit the model\n",
        "model.fit(X_train, y_train, validation_data=(X_val,y_val), epochs = 30, batch_size=3000)"
      ],
      "execution_count": null,
      "outputs": [
        {
          "output_type": "stream",
          "text": [
            "Train on 49000 samples, validate on 21000 samples\n",
            "Epoch 1/30\n",
            "49000/49000 [==============================] - 10s 198us/step - loss: 1.3277 - acc: 0.5883 - val_loss: 1.1587 - val_acc: 0.6075\n",
            "Epoch 2/30\n",
            "49000/49000 [==============================] - 8s 172us/step - loss: 1.1149 - acc: 0.6166 - val_loss: 1.0932 - val_acc: 0.6075\n",
            "Epoch 3/30\n",
            "49000/49000 [==============================] - 9s 174us/step - loss: 1.0238 - acc: 0.6205 - val_loss: 1.0042 - val_acc: 0.6143\n",
            "Epoch 4/30\n",
            "49000/49000 [==============================] - 9s 175us/step - loss: 0.9320 - acc: 0.6367 - val_loss: 0.9759 - val_acc: 0.6243\n",
            "Epoch 5/30\n",
            "49000/49000 [==============================] - 9s 174us/step - loss: 0.8860 - acc: 0.6490 - val_loss: 0.9519 - val_acc: 0.6287\n",
            "Epoch 6/30\n",
            "49000/49000 [==============================] - 8s 172us/step - loss: 0.8459 - acc: 0.6619 - val_loss: 0.9505 - val_acc: 0.6295\n",
            "Epoch 7/30\n",
            "49000/49000 [==============================] - 8s 172us/step - loss: 0.8147 - acc: 0.6728 - val_loss: 0.9625 - val_acc: 0.6335\n",
            "Epoch 8/30\n",
            "49000/49000 [==============================] - 8s 171us/step - loss: 0.7776 - acc: 0.6879 - val_loss: 0.9534 - val_acc: 0.6341\n",
            "Epoch 9/30\n",
            "49000/49000 [==============================] - 8s 171us/step - loss: 0.7441 - acc: 0.7040 - val_loss: 0.9591 - val_acc: 0.6416\n",
            "Epoch 10/30\n",
            "49000/49000 [==============================] - 8s 170us/step - loss: 0.7026 - acc: 0.7215 - val_loss: 0.9687 - val_acc: 0.6398\n",
            "Epoch 11/30\n",
            "49000/49000 [==============================] - 8s 171us/step - loss: 0.6704 - acc: 0.7371 - val_loss: 0.9986 - val_acc: 0.6426\n",
            "Epoch 12/30\n",
            "49000/49000 [==============================] - 8s 172us/step - loss: 0.6436 - acc: 0.7496 - val_loss: 1.0247 - val_acc: 0.6359\n",
            "Epoch 13/30\n",
            "49000/49000 [==============================] - 8s 172us/step - loss: 0.6178 - acc: 0.7622 - val_loss: 1.0218 - val_acc: 0.6190\n",
            "Epoch 14/30\n",
            "49000/49000 [==============================] - 8s 173us/step - loss: 0.6025 - acc: 0.7680 - val_loss: 1.0932 - val_acc: 0.6379\n",
            "Epoch 15/30\n",
            "49000/49000 [==============================] - 8s 173us/step - loss: 0.5735 - acc: 0.7801 - val_loss: 1.0806 - val_acc: 0.6177\n",
            "Epoch 16/30\n",
            "49000/49000 [==============================] - 8s 173us/step - loss: 0.5538 - acc: 0.7909 - val_loss: 1.1166 - val_acc: 0.6283\n",
            "Epoch 17/30\n",
            "49000/49000 [==============================] - 8s 172us/step - loss: 0.5266 - acc: 0.8006 - val_loss: 1.1465 - val_acc: 0.6258\n",
            "Epoch 18/30\n",
            "49000/49000 [==============================] - 8s 172us/step - loss: 0.5053 - acc: 0.8115 - val_loss: 1.1825 - val_acc: 0.6199\n",
            "Epoch 19/30\n",
            "49000/49000 [==============================] - 8s 172us/step - loss: 0.4902 - acc: 0.8166 - val_loss: 1.2102 - val_acc: 0.6193\n",
            "Epoch 20/30\n",
            "49000/49000 [==============================] - 8s 172us/step - loss: 0.4722 - acc: 0.8256 - val_loss: 1.2148 - val_acc: 0.6092\n",
            "Epoch 21/30\n",
            "49000/49000 [==============================] - 8s 172us/step - loss: 0.4496 - acc: 0.8354 - val_loss: 1.2754 - val_acc: 0.6140\n",
            "Epoch 22/30\n",
            "49000/49000 [==============================] - 8s 172us/step - loss: 0.4320 - acc: 0.8420 - val_loss: 1.3034 - val_acc: 0.6100\n",
            "Epoch 23/30\n",
            "49000/49000 [==============================] - 8s 172us/step - loss: 0.4204 - acc: 0.8472 - val_loss: 1.3096 - val_acc: 0.6094\n",
            "Epoch 24/30\n",
            "49000/49000 [==============================] - 8s 172us/step - loss: 0.4075 - acc: 0.8521 - val_loss: 1.4047 - val_acc: 0.6048\n",
            "Epoch 25/30\n",
            "49000/49000 [==============================] - 8s 172us/step - loss: 0.3924 - acc: 0.8596 - val_loss: 1.4279 - val_acc: 0.6190\n",
            "Epoch 26/30\n",
            "49000/49000 [==============================] - 8s 172us/step - loss: 0.3771 - acc: 0.8661 - val_loss: 1.4280 - val_acc: 0.5926\n",
            "Epoch 27/30\n",
            "49000/49000 [==============================] - 8s 172us/step - loss: 0.3615 - acc: 0.8697 - val_loss: 1.4778 - val_acc: 0.6037\n",
            "Epoch 28/30\n",
            "49000/49000 [==============================] - 8s 172us/step - loss: 0.3428 - acc: 0.8793 - val_loss: 1.5141 - val_acc: 0.6030\n",
            "Epoch 29/30\n",
            "49000/49000 [==============================] - 8s 172us/step - loss: 0.3315 - acc: 0.8831 - val_loss: 1.5029 - val_acc: 0.6000\n",
            "Epoch 30/30\n",
            "49000/49000 [==============================] - 8s 172us/step - loss: 0.3191 - acc: 0.8874 - val_loss: 1.5864 - val_acc: 0.6058\n"
          ],
          "name": "stdout"
        },
        {
          "output_type": "execute_result",
          "data": {
            "text/plain": [
              "<keras.callbacks.History at 0x7f5ad0b30860>"
            ]
          },
          "metadata": {
            "tags": []
          },
          "execution_count": 19
        }
      ]
    },
    {
      "cell_type": "code",
      "metadata": {
        "id": "XqyB5ct1naB6"
      },
      "source": [
        "#Saving this model\n",
        "\n",
        "model.save('model.h5')\n",
        "model_file = drive.CreateFile({'title' : 'model_1.h5'}) "
      ],
      "execution_count": null,
      "outputs": []
    },
    {
      "cell_type": "markdown",
      "metadata": {
        "id": "-4JxuQvNc1sP"
      },
      "source": [
        "The model above reached accuracy on validation set around 60%, but is overfitting (performing much better on the in-sample test set)."
      ]
    },
    {
      "cell_type": "markdown",
      "metadata": {
        "id": "a0HXXrt71YOu"
      },
      "source": [
        "We also tried adding a few more layers including a pooling layer, 'relu' activation layer and made the network more dense. The results are better than the network built before.\n"
      ]
    },
    {
      "cell_type": "code",
      "metadata": {
        "id": "-siF30vkgxdB",
        "colab": {
          "base_uri": "https://localhost:8080/",
          "height": 323
        },
        "outputId": "e49217a1-65e6-4e49-d762-7e5471a8fe0e"
      },
      "source": [
        "def create_conv_model():\n",
        "    model_conv = Sequential()\n",
        "    model_conv.add(Embedding(vocabulary_size, 100, input_length=100))\n",
        "    model_conv.add(Dropout(0.2)) #originally dropout=0.2\n",
        "    model_conv.add(Conv1D(64, 5, activation='relu'))\n",
        "    model_conv.add(MaxPooling1D(pool_size=5)) #originally pool_size=4\n",
        "    model_conv.add(LSTM(100))\n",
        "    model_conv.add(Dense(5, activation='softmax'))\n",
        "    model_conv.compile(loss='categorical_crossentropy', optimizer='adam', metrics=['accuracy'])\n",
        "    return model_conv\n",
        "model_conv = create_conv_model()\n",
        "model_conv.fit(X_train, y_train, validation_data=(X_val,y_val), epochs = 8, batch_size=3000)"
      ],
      "execution_count": null,
      "outputs": [
        {
          "output_type": "stream",
          "text": [
            "Train on 49000 samples, validate on 21000 samples\n",
            "Epoch 1/8\n",
            "49000/49000 [==============================] - 4s 86us/step - loss: 1.3346 - acc: 0.5826 - val_loss: 1.1468 - val_acc: 0.6075\n",
            "Epoch 2/8\n",
            "49000/49000 [==============================] - 2s 34us/step - loss: 1.1268 - acc: 0.6166 - val_loss: 1.1239 - val_acc: 0.6075\n",
            "Epoch 3/8\n",
            "49000/49000 [==============================] - 2s 34us/step - loss: 1.0807 - acc: 0.6166 - val_loss: 1.0672 - val_acc: 0.6075\n",
            "Epoch 4/8\n",
            "49000/49000 [==============================] - 2s 34us/step - loss: 0.9988 - acc: 0.6167 - val_loss: 1.0050 - val_acc: 0.6087\n",
            "Epoch 5/8\n",
            "49000/49000 [==============================] - 2s 34us/step - loss: 0.9214 - acc: 0.6313 - val_loss: 0.9691 - val_acc: 0.6194\n",
            "Epoch 6/8\n",
            "49000/49000 [==============================] - 2s 35us/step - loss: 0.8461 - acc: 0.6608 - val_loss: 0.9463 - val_acc: 0.6327\n",
            "Epoch 7/8\n",
            "49000/49000 [==============================] - 2s 35us/step - loss: 0.7827 - acc: 0.6835 - val_loss: 0.9589 - val_acc: 0.6266\n",
            "Epoch 8/8\n",
            "49000/49000 [==============================] - 2s 35us/step - loss: 0.7151 - acc: 0.7148 - val_loss: 0.9833 - val_acc: 0.6354\n"
          ],
          "name": "stdout"
        },
        {
          "output_type": "execute_result",
          "data": {
            "text/plain": [
              "<keras.callbacks.History at 0x7f58633cccc0>"
            ]
          },
          "metadata": {
            "tags": []
          },
          "execution_count": 25
        }
      ]
    },
    {
      "cell_type": "markdown",
      "metadata": {
        "id": "75N0E1TN28qv"
      },
      "source": [
        "We decided to try the combination of epochs and batch size and try to see the most optimal combination to use. A more ideal approach in this case would be to use a grid search and go ahead. \n",
        "In this model, accuracy of training set is ~71% and one our testing set is 63%. It sill shows a bit of discrepancy. "
      ]
    },
    {
      "cell_type": "markdown",
      "metadata": {
        "id": "bTYLY2ZEhAjf"
      },
      "source": [
        "We use the glove embeddings in our model to understand if using already available word embeddings could be helpful."
      ]
    },
    {
      "cell_type": "code",
      "metadata": {
        "id": "vWBNPmzNi5Ru"
      },
      "source": [
        "embeddings_index = dict()\n",
        "import io\n",
        "f = open('glove.6B.100d.txt')\n",
        "for line in f:\n",
        "    values = line.split()\n",
        "    word = values[0]\n",
        "    coefs = np.asarray(values[1:], dtype='float32')\n",
        "    embeddings_index[word] = coefs\n",
        "f.close()"
      ],
      "execution_count": null,
      "outputs": []
    },
    {
      "cell_type": "markdown",
      "metadata": {
        "id": "YmNV8O8z3CUg"
      },
      "source": [
        "Here's how it knows how to match the tokenised words with the correct embeddings:"
      ]
    },
    {
      "cell_type": "code",
      "metadata": {
        "id": "UbEdPcgMlP3U"
      },
      "source": [
        "embedding_matrix = np.zeros((vocabulary_size, 100))\n",
        "for word, index in tokenizer.word_index.items():\n",
        "    if index > vocabulary_size - 1:\n",
        "        break\n",
        "    else:\n",
        "        embedding_vector = embeddings_index.get(word)\n",
        "        if embedding_vector is not None:\n",
        "            embedding_matrix[index] = embedding_vector"
      ],
      "execution_count": null,
      "outputs": []
    },
    {
      "cell_type": "markdown",
      "metadata": {
        "id": "mmsOYJkr3WaB"
      },
      "source": [
        "And this is how it looks with the Embedding layer that uses the embeddings from Glove: "
      ]
    },
    {
      "cell_type": "code",
      "metadata": {
        "id": "VSIK-cs4nsx5",
        "colab": {
          "base_uri": "https://localhost:8080/",
          "height": 1000
        },
        "outputId": "f4784c5c-bae9-44e3-a36f-781ef69f66b0"
      },
      "source": [
        "## create model\n",
        "model_glove = Sequential()\n",
        "model_glove.add(Embedding(vocabulary_size, 100, input_length=100, weights=[embedding_matrix], trainable=False))\n",
        "model_glove.add(Dropout(0.2))\n",
        "model_glove.add(Conv1D(64, 5, activation='relu'))\n",
        "model_glove.add(MaxPooling1D(pool_size=5)) #originally 4\n",
        "model_glove.add(LSTM(100))\n",
        "model_glove.add(Dense(5, activation='softmax')) #originally sigmoid\n",
        "model_glove.compile(loss='categorical_crossentropy', optimizer='adam', metrics=['accuracy'])\n",
        "## Fit train data\n",
        "history=model_glove.fit(X_train, y_train, validation_data=(X_val,y_val), epochs = 30, batch_size=2000)"
      ],
      "execution_count": null,
      "outputs": [
        {
          "output_type": "stream",
          "text": [
            "Train on 49000 samples, validate on 21000 samples\n",
            "Epoch 1/30\n",
            "49000/49000 [==============================] - 4s 84us/step - loss: 1.2144 - acc: 0.5897 - val_loss: 1.1471 - val_acc: 0.6075\n",
            "Epoch 2/30\n",
            "49000/49000 [==============================] - 2s 31us/step - loss: 1.1200 - acc: 0.6167 - val_loss: 1.1203 - val_acc: 0.6083\n",
            "Epoch 3/30\n",
            "49000/49000 [==============================] - 2s 31us/step - loss: 1.0879 - acc: 0.6171 - val_loss: 1.1077 - val_acc: 0.6006\n",
            "Epoch 4/30\n",
            "49000/49000 [==============================] - 2s 31us/step - loss: 1.0578 - acc: 0.6176 - val_loss: 1.0479 - val_acc: 0.6104\n",
            "Epoch 5/30\n",
            "49000/49000 [==============================] - 2s 31us/step - loss: 1.0333 - acc: 0.6207 - val_loss: 1.0499 - val_acc: 0.6077\n",
            "Epoch 6/30\n",
            "49000/49000 [==============================] - 2s 31us/step - loss: 1.0189 - acc: 0.6216 - val_loss: 1.0403 - val_acc: 0.6040\n",
            "Epoch 7/30\n",
            "49000/49000 [==============================] - 2s 31us/step - loss: 1.0025 - acc: 0.6255 - val_loss: 1.0088 - val_acc: 0.6213\n",
            "Epoch 8/30\n",
            "49000/49000 [==============================] - 2s 31us/step - loss: 0.9870 - acc: 0.6294 - val_loss: 0.9976 - val_acc: 0.6209\n",
            "Epoch 9/30\n",
            "49000/49000 [==============================] - 2s 31us/step - loss: 0.9780 - acc: 0.6328 - val_loss: 0.9903 - val_acc: 0.6241\n",
            "Epoch 10/30\n",
            "49000/49000 [==============================] - 2s 32us/step - loss: 0.9672 - acc: 0.6351 - val_loss: 1.0158 - val_acc: 0.6094\n",
            "Epoch 11/30\n",
            "49000/49000 [==============================] - 2s 31us/step - loss: 0.9610 - acc: 0.6377 - val_loss: 0.9892 - val_acc: 0.6198\n",
            "Epoch 12/30\n",
            "49000/49000 [==============================] - 2s 32us/step - loss: 0.9467 - acc: 0.6406 - val_loss: 0.9807 - val_acc: 0.6219\n",
            "Epoch 13/30\n",
            "49000/49000 [==============================] - 2s 31us/step - loss: 0.9358 - acc: 0.6448 - val_loss: 0.9785 - val_acc: 0.6272\n",
            "Epoch 14/30\n",
            "49000/49000 [==============================] - 2s 32us/step - loss: 0.9267 - acc: 0.6478 - val_loss: 1.0276 - val_acc: 0.5995\n",
            "Epoch 15/30\n",
            "49000/49000 [==============================] - 2s 31us/step - loss: 0.9223 - acc: 0.6491 - val_loss: 0.9708 - val_acc: 0.6295\n",
            "Epoch 16/30\n",
            "49000/49000 [==============================] - 2s 31us/step - loss: 0.9149 - acc: 0.6502 - val_loss: 0.9660 - val_acc: 0.6319\n",
            "Epoch 17/30\n",
            "49000/49000 [==============================] - 2s 31us/step - loss: 0.9138 - acc: 0.6531 - val_loss: 0.9647 - val_acc: 0.6319\n",
            "Epoch 18/30\n",
            "49000/49000 [==============================] - 2s 31us/step - loss: 0.9016 - acc: 0.6552 - val_loss: 0.9637 - val_acc: 0.6286\n",
            "Epoch 19/30\n",
            "49000/49000 [==============================] - 2s 31us/step - loss: 0.8981 - acc: 0.6556 - val_loss: 0.9633 - val_acc: 0.6283\n",
            "Epoch 20/30\n",
            "49000/49000 [==============================] - 2s 31us/step - loss: 0.8890 - acc: 0.6592 - val_loss: 0.9613 - val_acc: 0.6314\n",
            "Epoch 21/30\n",
            "49000/49000 [==============================] - 2s 32us/step - loss: 0.8891 - acc: 0.6603 - val_loss: 0.9739 - val_acc: 0.6298\n",
            "Epoch 22/30\n",
            "49000/49000 [==============================] - 2s 31us/step - loss: 0.8873 - acc: 0.6596 - val_loss: 0.9643 - val_acc: 0.6285\n",
            "Epoch 23/30\n",
            "49000/49000 [==============================] - 2s 31us/step - loss: 0.8759 - acc: 0.6616 - val_loss: 0.9713 - val_acc: 0.6230\n",
            "Epoch 24/30\n",
            "49000/49000 [==============================] - 2s 31us/step - loss: 0.8698 - acc: 0.6643 - val_loss: 0.9892 - val_acc: 0.6131\n",
            "Epoch 25/30\n",
            "49000/49000 [==============================] - 2s 31us/step - loss: 0.8700 - acc: 0.6647 - val_loss: 0.9577 - val_acc: 0.6350\n",
            "Epoch 26/30\n",
            "49000/49000 [==============================] - 1s 31us/step - loss: 0.8672 - acc: 0.6662 - val_loss: 0.9753 - val_acc: 0.6216\n",
            "Epoch 27/30\n",
            "49000/49000 [==============================] - 1s 31us/step - loss: 0.8598 - acc: 0.6684 - val_loss: 0.9670 - val_acc: 0.6268\n",
            "Epoch 28/30\n",
            "49000/49000 [==============================] - 2s 31us/step - loss: 0.8525 - acc: 0.6710 - val_loss: 0.9661 - val_acc: 0.6289\n",
            "Epoch 29/30\n",
            "49000/49000 [==============================] - 2s 31us/step - loss: 0.8489 - acc: 0.6711 - val_loss: 0.9699 - val_acc: 0.6286\n",
            "Epoch 30/30\n",
            "49000/49000 [==============================] - 1s 31us/step - loss: 0.8421 - acc: 0.6755 - val_loss: 0.9593 - val_acc: 0.6303\n"
          ],
          "name": "stdout"
        }
      ]
    },
    {
      "cell_type": "code",
      "metadata": {
        "id": "UlzqmlUHppzt",
        "colab": {
          "base_uri": "https://localhost:8080/",
          "height": 295
        },
        "outputId": "67ec3924-deac-4c3f-8dd2-56d11e127749"
      },
      "source": [
        "plt.plot(history.history['acc'])\n",
        "plt.plot(history.history['val_acc'])\n",
        "plt.title('model accuracy')\n",
        "plt.ylabel('accuracy')\n",
        "plt.yscale('linear')\n",
        "plt.ylim((0.5,1))\n",
        "plt.xlabel('epoch')\n",
        "plt.legend(['train set', 'test set'], loc='upper left')\n",
        "plt.show()"
      ],
      "execution_count": null,
      "outputs": [
        {
          "output_type": "display_data",
          "data": {
            "image/png": "[encoded data removed]",
            "text/plain": [
              "<Figure size 432x288 with 1 Axes>"
            ]
          },
          "metadata": {
            "tags": []
          }
        }
      ]
    },
    {
      "cell_type": "markdown",
      "metadata": {
        "id": "9fi-FEpPSC8c"
      },
      "source": [
        "> In this case for the given epoch-batch size combination, Glove performs better than the previous models we built. We observe that even by using a high number of epochs the difference between training set and test set accuracy is ~ 4%"
      ]
    },
    {
      "cell_type": "markdown",
      "metadata": {
        "id": "8JRck629-Po0"
      },
      "source": [
        "## Building a benchmark model - Logistic regression - Review_Body\n"
      ]
    },
    {
      "cell_type": "markdown",
      "metadata": {
        "id": "dSe9go1wSYju"
      },
      "source": [
        "Even though we have access to Glove, gensim and other embeddings, we may be able to build more simplistic models by using logistic regression and count vectorizer. "
      ]
    },
    {
      "cell_type": "code",
      "metadata": {
        "id": "5OjVNCUk-T5j"
      },
      "source": [
        "from sklearn.model_selection import train_test_split\n",
        "from sklearn.feature_extraction.text import CountVectorizer\n",
        "from sklearn.feature_extraction.text import TfidfTransformer\n",
        "from sklearn.naive_bayes import MultinomialNB\n",
        "\n",
        "\n",
        "from sklearn.model_selection import train_test_split\n",
        "X_train, X_test, y_train, y_test = train_test_split(train2['review_body'],train2['star_rating'], test_size=0.30, random_state=9)\n",
        "\n"
      ],
      "execution_count": null,
      "outputs": []
    },
    {
      "cell_type": "code",
      "metadata": {
        "id": "EelxasULsYyi"
      },
      "source": [
        "vectorizer = CountVectorizer()\n",
        "vectorizer.fit(X_train)\n",
        "\n",
        "X_train = vectorizer.transform(X_train)\n",
        "X_test  = vectorizer.transform(X_test)"
      ],
      "execution_count": null,
      "outputs": []
    },
    {
      "cell_type": "code",
      "metadata": {
        "id": "dEHAvkDTsfBy",
        "colab": {
          "base_uri": "https://localhost:8080/",
          "height": 34
        },
        "outputId": "d016f5af-012f-480d-e71e-ecc817caa832"
      },
      "source": [
        "from sklearn.linear_model import LogisticRegression\n",
        "\n",
        "import warnings \n",
        "warnings.filterwarnings('ignore')\n",
        "\n",
        "classifier = LogisticRegression(solver=\"lbfgs\", multi_class=\"multinomial\", max_iter=500)\n",
        "classifier.fit(X_train, y_train)\n",
        "score_lr = classifier.score(X_test, y_test)\n",
        "\n",
        "print(\"Accuracy:\", score_lr)"
      ],
      "execution_count": null,
      "outputs": [
        {
          "output_type": "stream",
          "text": [
            "Accuracy: 0.6504333333333333\n"
          ],
          "name": "stdout"
        }
      ]
    },
    {
      "cell_type": "markdown",
      "metadata": {
        "id": "bHC9y9zgcReB"
      },
      "source": [
        "## Model Architecture and Accuracies - Review_Headline\n",
        "\n",
        "- We perfom the same analysis on review_headline to observe for any changes in the model parameters or accuracy.\n",
        "\n"
      ]
    },
    {
      "cell_type": "code",
      "metadata": {
        "id": "XmjWs713cZ31"
      },
      "source": [
        "#Uploading the original train dataset\n",
        "train = pd.read_csv('MC2.csv')"
      ],
      "execution_count": null,
      "outputs": []
    },
    {
      "cell_type": "code",
      "metadata": {
        "id": "kEtccN02ceoC"
      },
      "source": [
        "#Since the review_title is not so computationally heavy to handle we go for 50% of the dataset rows from review_title.\n",
        "#10 percent of data\n",
        "\n",
        "train2 = train.sample(500000,random_state=123,axis=0)\n",
        "\n",
        "train2=train2[[\"star_rating\",\"review_headline\"]]\n",
        "train2.review_headline=train2.review_headline.astype(str)\n",
        "train2.star_rating=train2.star_rating.astype(str)"
      ],
      "execution_count": null,
      "outputs": []
    },
    {
      "cell_type": "code",
      "metadata": {
        "id": "lhgEmHuuc1Wa",
        "colab": {
          "base_uri": "https://localhost:8080/",
          "height": 34
        },
        "outputId": "9666c0d7-4005-42d2-d03c-8a008a34e543"
      },
      "source": [
        "#Splitting the data in train and test for our analyses like review_body.\n",
        "\n",
        "from sklearn.model_selection import train_test_split\n",
        "train ,test = train_test_split(train2, test_size=0.30, random_state=9)\n",
        "\n",
        "train.shape\n"
      ],
      "execution_count": null,
      "outputs": [
        {
          "output_type": "execute_result",
          "data": {
            "text/plain": [
              "(350000, 2)"
            ]
          },
          "metadata": {
            "tags": []
          },
          "execution_count": 11
        }
      ]
    },
    {
      "cell_type": "markdown",
      "metadata": {
        "id": "2yteSAHrdBGY"
      },
      "source": [
        "Setting the conventional notations for dependent and independent variables. "
      ]
    },
    {
      "cell_type": "code",
      "metadata": {
        "id": "TOO-N13xc6dK"
      },
      "source": [
        "X=train['review_headline']\n",
        "y=train['star_rating']"
      ],
      "execution_count": null,
      "outputs": []
    },
    {
      "cell_type": "code",
      "metadata": {
        "id": "r3WqKX-rdQiX"
      },
      "source": [
        "#Cleaning the review_title data\n",
        "def clean_text(text):\n",
        "    \n",
        "    ## Remove punctuation\n",
        "    text = text.translate(string.punctuation)\n",
        "    \n",
        "    ## Convert words to lower case and split them\n",
        "    text = text.lower().split()\n",
        "    \n",
        "    ## Remove stop words\n",
        "    stops = set(stopwords.words(\"english\"))\n",
        "    text = [w for w in text if not w in stops and len(w) >= 3]\n",
        "    \n",
        "    text = \" \".join(text)\n",
        "    ## Clean the text\n",
        "    text = re.sub(r\"[^A-Za-z0-9^,!.\\/'+-=]\", \" \", text)\n",
        "    text = re.sub(r\"what's\", \"what is \", text)\n",
        "    text = re.sub(r\"\\'s\", \" \", text)\n",
        "    text = re.sub(r\"\\'ve\", \" have \", text)\n",
        "    text = re.sub(r\"n't\", \" not \", text)\n",
        "    text = re.sub(r\"i'm\", \"i am \", text)\n",
        "    text = re.sub(r\"\\'re\", \" are \", text)\n",
        "    text = re.sub(r\"\\'d\", \" would \", text)\n",
        "    text = re.sub(r\"\\'ll\", \" will \", text)\n",
        "    text = re.sub(r\",\", \" \", text)\n",
        "    text = re.sub(r\"\\.\", \" \", text)\n",
        "    text = re.sub(r\"!\", \" ! \", text)\n",
        "    text = re.sub(r\"\\/\", \" \", text)\n",
        "    text = re.sub(r\"\\^\", \" ^ \", text)\n",
        "    text = re.sub(r\"\\+\", \" + \", text)\n",
        "    text = re.sub(r\"\\-\", \" - \", text)\n",
        "    text = re.sub(r\"\\=\", \" = \", text)\n",
        "    text = re.sub(r\"'\", \" \", text)\n",
        "    text = re.sub(r\"(\\d+)(k)\", r\"\\g<1>000\", text) \n",
        "    text = re.sub(r\":\", \" : \", text)\n",
        "    text = re.sub(r\" e g \", \" eg \", text)\n",
        "    text = re.sub(r\" b g \", \" bg \", text)\n",
        "    text = re.sub(r\" u s \", \" american \", text)\n",
        "    text = re.sub(r\"\\0s\", \"0\", text)\n",
        "    text = re.sub(r\" 9 11 \", \"911\", text)\n",
        "    text = re.sub(r\"e - mail\", \"email\", text)\n",
        "    text = re.sub(r\"j k\", \"jk\", text)\n",
        "    text = re.sub(r\"\\s{2,}\", \" \", text)\n",
        "    ## Stemming\n",
        "    text = text.split()\n",
        "    stemmer = SnowballStemmer('english')\n",
        "    stemmed_words = [stemmer.stem(word) for word in text]\n",
        "    text = \" \".join(stemmed_words)\n",
        "    return text\n",
        "\n",
        "\n",
        "\n",
        "X= X.map(lambda x: clean_text(x))"
      ],
      "execution_count": null,
      "outputs": []
    },
    {
      "cell_type": "code",
      "metadata": {
        "id": "4cQpCMMJdT0e"
      },
      "source": [
        "#Representing the dummy encoding \n",
        "y=pd.get_dummies(y)\n",
        "y=y.values"
      ],
      "execution_count": null,
      "outputs": []
    },
    {
      "cell_type": "code",
      "metadata": {
        "id": "aPhd5mzidZxI",
        "colab": {
          "base_uri": "https://localhost:8080/",
          "height": 34
        },
        "outputId": "4a93ea1b-3a8e-47d0-dad1-521cf9c10e9b"
      },
      "source": [
        "### Create sequence of word tokens, with maximum length=50. \n",
        "#Since it is review_title we believe a less length should work for review_titles\n",
        "\n",
        "vocabulary_size = 50000\n",
        "tokenizer = Tokenizer(num_words= vocabulary_size)\n",
        "tokenizer.fit_on_texts(X)\n",
        "sequences = tokenizer.texts_to_sequences(X)\n",
        "X = pad_sequences(sequences, maxlen=50)\n",
        "\n",
        "X.shape"
      ],
      "execution_count": null,
      "outputs": [
        {
          "output_type": "execute_result",
          "data": {
            "text/plain": [
              "(350000, 50)"
            ]
          },
          "metadata": {
            "tags": []
          },
          "execution_count": 16
        }
      ]
    },
    {
      "cell_type": "code",
      "metadata": {
        "id": "BeaguVvddtNW",
        "colab": {
          "base_uri": "https://localhost:8080/",
          "height": 34
        },
        "outputId": "73bf5c80-3308-4b22-b284-1523c88192b8"
      },
      "source": [
        "#Splitting our 50% data into further training and test \n",
        "X_train, X_val, y_train, y_val = train_test_split(X, y, test_size=0.30, random_state=9)\n",
        "\n",
        "X_val.shape"
      ],
      "execution_count": null,
      "outputs": [
        {
          "output_type": "execute_result",
          "data": {
            "text/plain": [
              "(105000, 50)"
            ]
          },
          "metadata": {
            "tags": []
          },
          "execution_count": 17
        }
      ]
    },
    {
      "cell_type": "code",
      "metadata": {
        "id": "cLwcDfU0fAcE",
        "colab": {
          "base_uri": "https://localhost:8080/",
          "height": 901
        },
        "outputId": "7015ac31-cc06-49af-cd86-ef88ada26540"
      },
      "source": [
        "#Building a sequential model \n",
        "\n",
        "model = Sequential()\n",
        "model.add(Embedding(50000, 100, input_length=50))\n",
        "model.add(LSTM(200, dropout=0.2, recurrent_dropout=0.2)) \n",
        "model.add(Dense(5, activation='softmax'))\n",
        "model.compile(loss='categorical_crossentropy', optimizer='adam', metrics=['accuracy'])\n",
        "## Fit the model\n",
        "model.fit(X_train, y_train, validation_data=(X_val,y_val), epochs = 25, batch_size=5000)"
      ],
      "execution_count": null,
      "outputs": [
        {
          "output_type": "stream",
          "text": [
            "Train on 245000 samples, validate on 105000 samples\n",
            "Epoch 1/25\n",
            "245000/245000 [==============================] - 22s 89us/step - loss: 1.1827 - acc: 0.6062 - val_loss: 1.0855 - val_acc: 0.6153\n",
            "Epoch 2/25\n",
            "245000/245000 [==============================] - 21s 84us/step - loss: 1.0131 - acc: 0.6212 - val_loss: 0.9777 - val_acc: 0.6340\n",
            "Epoch 3/25\n",
            "245000/245000 [==============================] - 21s 84us/step - loss: 0.9347 - acc: 0.6463 - val_loss: 0.9399 - val_acc: 0.6494\n",
            "Epoch 4/25\n",
            "245000/245000 [==============================] - 20s 84us/step - loss: 0.8886 - acc: 0.6595 - val_loss: 0.9302 - val_acc: 0.6520\n",
            "Epoch 5/25\n",
            "245000/245000 [==============================] - 21s 84us/step - loss: 0.8630 - acc: 0.6687 - val_loss: 0.9345 - val_acc: 0.6526\n",
            "Epoch 6/25\n",
            "245000/245000 [==============================] - 21s 84us/step - loss: 0.8439 - acc: 0.6770 - val_loss: 0.9385 - val_acc: 0.6491\n",
            "Epoch 7/25\n",
            "245000/245000 [==============================] - 21s 84us/step - loss: 0.8264 - acc: 0.6850 - val_loss: 0.9505 - val_acc: 0.6472\n",
            "Epoch 8/25\n",
            "245000/245000 [==============================] - 21s 84us/step - loss: 0.8106 - acc: 0.6921 - val_loss: 0.9578 - val_acc: 0.6439\n",
            "Epoch 9/25\n",
            "245000/245000 [==============================] - 21s 84us/step - loss: 0.7973 - acc: 0.6980 - val_loss: 0.9728 - val_acc: 0.6412\n",
            "Epoch 10/25\n",
            "245000/245000 [==============================] - 21s 84us/step - loss: 0.7841 - acc: 0.7022 - val_loss: 0.9785 - val_acc: 0.6418\n",
            "Epoch 11/25\n",
            "245000/245000 [==============================] - 21s 84us/step - loss: 0.7717 - acc: 0.7062 - val_loss: 0.9844 - val_acc: 0.6402\n",
            "Epoch 12/25\n",
            "245000/245000 [==============================] - 21s 84us/step - loss: 0.7607 - acc: 0.7092 - val_loss: 0.9960 - val_acc: 0.6363\n",
            "Epoch 13/25\n",
            "245000/245000 [==============================] - 21s 84us/step - loss: 0.7522 - acc: 0.7120 - val_loss: 1.0005 - val_acc: 0.6348\n",
            "Epoch 14/25\n",
            "245000/245000 [==============================] - 21s 84us/step - loss: 0.7432 - acc: 0.7147 - val_loss: 1.0161 - val_acc: 0.6330\n",
            "Epoch 15/25\n",
            "245000/245000 [==============================] - 21s 84us/step - loss: 0.7354 - acc: 0.7171 - val_loss: 1.0177 - val_acc: 0.6329\n",
            "Epoch 16/25\n",
            "245000/245000 [==============================] - 21s 84us/step - loss: 0.7285 - acc: 0.7196 - val_loss: 1.0272 - val_acc: 0.6299\n",
            "Epoch 17/25\n",
            "245000/245000 [==============================] - 21s 84us/step - loss: 0.7233 - acc: 0.7206 - val_loss: 1.0332 - val_acc: 0.6308\n",
            "Epoch 18/25\n",
            "245000/245000 [==============================] - 21s 84us/step - loss: 0.7171 - acc: 0.7222 - val_loss: 1.0534 - val_acc: 0.6338\n",
            "Epoch 19/25\n",
            "245000/245000 [==============================] - 21s 84us/step - loss: 0.7116 - acc: 0.7250 - val_loss: 1.0445 - val_acc: 0.6326\n",
            "Epoch 20/25\n",
            "245000/245000 [==============================] - 21s 84us/step - loss: 0.7057 - acc: 0.7259 - val_loss: 1.0593 - val_acc: 0.6308\n",
            "Epoch 21/25\n",
            "245000/245000 [==============================] - 21s 84us/step - loss: 0.7003 - acc: 0.7279 - val_loss: 1.0644 - val_acc: 0.6301\n",
            "Epoch 22/25\n",
            "245000/245000 [==============================] - 21s 84us/step - loss: 0.6952 - acc: 0.7293 - val_loss: 1.0713 - val_acc: 0.6286\n",
            "Epoch 23/25\n",
            "245000/245000 [==============================] - 21s 84us/step - loss: 0.6905 - acc: 0.7313 - val_loss: 1.0815 - val_acc: 0.6309\n",
            "Epoch 24/25\n",
            "245000/245000 [==============================] - 20s 84us/step - loss: 0.6843 - acc: 0.7335 - val_loss: 1.0918 - val_acc: 0.6277\n",
            "Epoch 25/25\n",
            "245000/245000 [==============================] - 20s 83us/step - loss: 0.6799 - acc: 0.7352 - val_loss: 1.1013 - val_acc: 0.6280\n"
          ],
          "name": "stdout"
        },
        {
          "output_type": "execute_result",
          "data": {
            "text/plain": [
              "<keras.callbacks.History at 0x7f0a956b7c88>"
            ]
          },
          "metadata": {
            "tags": []
          },
          "execution_count": 20
        }
      ]
    },
    {
      "cell_type": "markdown",
      "metadata": {
        "id": "GG50kT5Mi3dU"
      },
      "source": [
        "We built another deeper model with more layers and different parameters. We added 'relu' activation like the review_body model. "
      ]
    },
    {
      "cell_type": "code",
      "metadata": {
        "id": "ycYtORr6jGfV",
        "colab": {
          "base_uri": "https://localhost:8080/",
          "height": 768
        },
        "outputId": "c9e6775c-0d43-48c9-b1d6-14e7c9e6e7a8"
      },
      "source": [
        "def create_conv_model():\n",
        "    model_conv = Sequential()\n",
        "    model_conv.add(Embedding(vocabulary_size, 100, input_length=50))\n",
        "    model_conv.add(Dropout(0.8)) \n",
        "    model_conv.add(Conv1D(64, 5, activation='relu'))\n",
        "    model_conv.add(MaxPooling1D(pool_size=5)) #originally pool_size=4\n",
        "    model_conv.add(LSTM(100))\n",
        "    model_conv.add(Dense(5, activation='softmax'))\n",
        "    model_conv.compile(loss='categorical_crossentropy', optimizer='adam', metrics=['accuracy'])\n",
        "    return model_conv\n",
        "model_conv = create_conv_model()\n",
        "model_conv.fit(X_train, y_train, validation_data=(X_val,y_val), epochs = 20, batch_size=5000)"
      ],
      "execution_count": null,
      "outputs": [
        {
          "output_type": "stream",
          "text": [
            "W0630 08:48:29.078641 139685384861568 nn_ops.py:4224] Large dropout rate: 0.8 (>0.5). In TensorFlow 2.x, dropout() uses dropout rate instead of keep_prob. Please ensure that this is intended.\n"
          ],
          "name": "stderr"
        },
        {
          "output_type": "stream",
          "text": [
            "Train on 245000 samples, validate on 105000 samples\n",
            "Epoch 1/20\n",
            "245000/245000 [==============================] - 6s 25us/step - loss: 1.1972 - acc: 0.5960 - val_loss: 1.1804 - val_acc: 0.6153\n",
            "Epoch 2/20\n",
            "245000/245000 [==============================] - 4s 17us/step - loss: 1.1402 - acc: 0.6143 - val_loss: 1.1687 - val_acc: 0.6153\n",
            "Epoch 3/20\n",
            "245000/245000 [==============================] - 4s 17us/step - loss: 1.1073 - acc: 0.6143 - val_loss: 1.1374 - val_acc: 0.6153\n",
            "Epoch 4/20\n",
            "245000/245000 [==============================] - 4s 17us/step - loss: 1.0729 - acc: 0.6143 - val_loss: 1.0970 - val_acc: 0.6157\n",
            "Epoch 5/20\n",
            "245000/245000 [==============================] - 4s 17us/step - loss: 1.0443 - acc: 0.6189 - val_loss: 1.0590 - val_acc: 0.6222\n",
            "Epoch 6/20\n",
            "245000/245000 [==============================] - 4s 17us/step - loss: 1.0180 - acc: 0.6234 - val_loss: 1.0278 - val_acc: 0.6311\n",
            "Epoch 7/20\n",
            "245000/245000 [==============================] - 4s 17us/step - loss: 0.9933 - acc: 0.6322 - val_loss: 1.0175 - val_acc: 0.6356\n",
            "Epoch 8/20\n",
            "245000/245000 [==============================] - 4s 17us/step - loss: 0.9790 - acc: 0.6359 - val_loss: 1.0182 - val_acc: 0.6350\n",
            "Epoch 9/20\n",
            "245000/245000 [==============================] - 4s 17us/step - loss: 0.9697 - acc: 0.6381 - val_loss: 1.0086 - val_acc: 0.6350\n",
            "Epoch 10/20\n",
            "245000/245000 [==============================] - 4s 17us/step - loss: 0.9622 - acc: 0.6401 - val_loss: 1.0078 - val_acc: 0.6352\n",
            "Epoch 11/20\n",
            "245000/245000 [==============================] - 4s 17us/step - loss: 0.9560 - acc: 0.6421 - val_loss: 1.0093 - val_acc: 0.6336\n",
            "Epoch 12/20\n",
            "245000/245000 [==============================] - 4s 17us/step - loss: 0.9503 - acc: 0.6444 - val_loss: 1.0060 - val_acc: 0.6331\n",
            "Epoch 13/20\n",
            "245000/245000 [==============================] - 4s 17us/step - loss: 0.9460 - acc: 0.6462 - val_loss: 1.0116 - val_acc: 0.6324\n",
            "Epoch 14/20\n",
            "245000/245000 [==============================] - 4s 17us/step - loss: 0.9419 - acc: 0.6485 - val_loss: 1.0054 - val_acc: 0.6315\n",
            "Epoch 15/20\n",
            "245000/245000 [==============================] - 4s 17us/step - loss: 0.9368 - acc: 0.6496 - val_loss: 1.0079 - val_acc: 0.6303\n",
            "Epoch 16/20\n",
            "245000/245000 [==============================] - 4s 17us/step - loss: 0.9332 - acc: 0.6518 - val_loss: 1.0010 - val_acc: 0.6343\n",
            "Epoch 17/20\n",
            "245000/245000 [==============================] - 4s 17us/step - loss: 0.9289 - acc: 0.6538 - val_loss: 1.0020 - val_acc: 0.6324\n",
            "Epoch 18/20\n",
            "245000/245000 [==============================] - 4s 17us/step - loss: 0.9254 - acc: 0.6559 - val_loss: 1.0036 - val_acc: 0.6323\n",
            "Epoch 19/20\n",
            "245000/245000 [==============================] - 4s 17us/step - loss: 0.9219 - acc: 0.6562 - val_loss: 1.0041 - val_acc: 0.6315\n",
            "Epoch 20/20\n",
            "245000/245000 [==============================] - 4s 17us/step - loss: 0.9188 - acc: 0.6588 - val_loss: 1.0036 - val_acc: 0.6317\n"
          ],
          "name": "stdout"
        },
        {
          "output_type": "execute_result",
          "data": {
            "text/plain": [
              "<keras.callbacks.History at 0x7f0a8e6933c8>"
            ]
          },
          "metadata": {
            "tags": []
          },
          "execution_count": 25
        }
      ]
    },
    {
      "cell_type": "markdown",
      "metadata": {
        "id": "FrCd112ZlK7I"
      },
      "source": [
        "We use Glove embeddings for our review_headline analysis as well. "
      ]
    },
    {
      "cell_type": "code",
      "metadata": {
        "id": "0PyiCQpflKGw"
      },
      "source": [
        "#Loading the embeddings. \n",
        "embeddings_index = dict()\n",
        "import io\n",
        "f = open('glove.6B.100d.txt')\n",
        "for line in f:\n",
        "    values = line.split()\n",
        "    word = values[0]\n",
        "    coefs = np.asarray(values[1:], dtype='float32')\n",
        "    embeddings_index[word] = coefs\n",
        "f.close()"
      ],
      "execution_count": null,
      "outputs": []
    },
    {
      "cell_type": "code",
      "metadata": {
        "id": "YXCmUFaalurN"
      },
      "source": [
        "#Matching embeddings with tokenized words from review_title\n",
        "embedding_matrix = np.zeros((vocabulary_size, 100))\n",
        "for word, index in tokenizer.word_index.items():\n",
        "    if index > vocabulary_size - 1:\n",
        "        break\n",
        "    else:\n",
        "        embedding_vector = embeddings_index.get(word)\n",
        "        if embedding_vector is not None:\n",
        "            embedding_matrix[index] = embedding_vector"
      ],
      "execution_count": null,
      "outputs": []
    },
    {
      "cell_type": "code",
      "metadata": {
        "id": "GNpHzoivmJpH",
        "colab": {
          "base_uri": "https://localhost:8080/",
          "height": 1000
        },
        "outputId": "936d7323-e46e-47e3-b562-3ecf4e3ed8bd"
      },
      "source": [
        "## create model\n",
        "model_glove = Sequential()\n",
        "model_glove.add(Embedding(vocabulary_size, 100, input_length=50, weights=[embedding_matrix], trainable=False))\n",
        "model_glove.add(Dropout(0.2))\n",
        "model_glove.add(Conv1D(64, 5, activation='relu'))\n",
        "model_glove.add(MaxPooling1D(pool_size=5)) #originally 4\n",
        "model_glove.add(LSTM(100))\n",
        "model_glove.add(Dense(5, activation='softmax')) #originally sigmoid\n",
        "model_glove.compile(loss='categorical_crossentropy', optimizer='adam', metrics=['accuracy'])\n",
        "## Fit train data\n",
        "history=model_glove.fit(X_train, y_train, validation_data=(X_val,y_val), epochs = 30, batch_size=2000)"
      ],
      "execution_count": null,
      "outputs": [
        {
          "output_type": "stream",
          "text": [
            "Train on 245000 samples, validate on 105000 samples\n",
            "Epoch 1/30\n",
            "245000/245000 [==============================] - 7s 27us/step - loss: 1.1581 - acc: 0.6067 - val_loss: 1.0871 - val_acc: 0.6165\n",
            "Epoch 2/30\n",
            "245000/245000 [==============================] - 4s 18us/step - loss: 1.0712 - acc: 0.6211 - val_loss: 1.0506 - val_acc: 0.6277\n",
            "Epoch 3/30\n",
            "245000/245000 [==============================] - 4s 18us/step - loss: 1.0514 - acc: 0.6262 - val_loss: 1.0410 - val_acc: 0.6295\n",
            "Epoch 4/30\n",
            "245000/245000 [==============================] - 4s 18us/step - loss: 1.0413 - acc: 0.6286 - val_loss: 1.0342 - val_acc: 0.6316\n",
            "Epoch 5/30\n",
            "245000/245000 [==============================] - 4s 18us/step - loss: 1.0350 - acc: 0.6300 - val_loss: 1.0314 - val_acc: 0.6321\n",
            "Epoch 6/30\n",
            "245000/245000 [==============================] - 4s 18us/step - loss: 1.0296 - acc: 0.6302 - val_loss: 1.0304 - val_acc: 0.6325\n",
            "Epoch 7/30\n",
            "245000/245000 [==============================] - 4s 18us/step - loss: 1.0258 - acc: 0.6311 - val_loss: 1.0274 - val_acc: 0.6330\n",
            "Epoch 8/30\n",
            "245000/245000 [==============================] - 4s 18us/step - loss: 1.0225 - acc: 0.6324 - val_loss: 1.0311 - val_acc: 0.6320\n",
            "Epoch 9/30\n",
            "245000/245000 [==============================] - 4s 17us/step - loss: 1.0201 - acc: 0.6330 - val_loss: 1.0256 - val_acc: 0.6336\n",
            "Epoch 10/30\n",
            "245000/245000 [==============================] - 4s 17us/step - loss: 1.0177 - acc: 0.6335 - val_loss: 1.0274 - val_acc: 0.6339\n",
            "Epoch 11/30\n",
            "245000/245000 [==============================] - 4s 18us/step - loss: 1.0153 - acc: 0.6337 - val_loss: 1.0251 - val_acc: 0.6333\n",
            "Epoch 12/30\n",
            "245000/245000 [==============================] - 4s 17us/step - loss: 1.0142 - acc: 0.6338 - val_loss: 1.0251 - val_acc: 0.6341\n",
            "Epoch 13/30\n",
            "245000/245000 [==============================] - 4s 17us/step - loss: 1.0112 - acc: 0.6349 - val_loss: 1.0260 - val_acc: 0.6326\n",
            "Epoch 14/30\n",
            "245000/245000 [==============================] - 4s 18us/step - loss: 1.0101 - acc: 0.6349 - val_loss: 1.0244 - val_acc: 0.6336\n",
            "Epoch 15/30\n",
            "245000/245000 [==============================] - 4s 18us/step - loss: 1.0078 - acc: 0.6349 - val_loss: 1.0257 - val_acc: 0.6335\n",
            "Epoch 16/30\n",
            "245000/245000 [==============================] - 4s 17us/step - loss: 1.0074 - acc: 0.6356 - val_loss: 1.0261 - val_acc: 0.6322\n",
            "Epoch 17/30\n",
            "245000/245000 [==============================] - 4s 17us/step - loss: 1.0067 - acc: 0.6356 - val_loss: 1.0255 - val_acc: 0.6335\n",
            "Epoch 18/30\n",
            "245000/245000 [==============================] - 4s 17us/step - loss: 1.0052 - acc: 0.6362 - val_loss: 1.0250 - val_acc: 0.6335\n",
            "Epoch 19/30\n",
            "245000/245000 [==============================] - 4s 17us/step - loss: 1.0037 - acc: 0.6364 - val_loss: 1.0257 - val_acc: 0.6341\n",
            "Epoch 20/30\n",
            "245000/245000 [==============================] - 4s 17us/step - loss: 1.0027 - acc: 0.6372 - val_loss: 1.0263 - val_acc: 0.6329\n",
            "Epoch 21/30\n",
            "245000/245000 [==============================] - 4s 17us/step - loss: 1.0022 - acc: 0.6365 - val_loss: 1.0258 - val_acc: 0.6323\n",
            "Epoch 22/30\n",
            "245000/245000 [==============================] - 4s 17us/step - loss: 1.0005 - acc: 0.6371 - val_loss: 1.0269 - val_acc: 0.6323\n",
            "Epoch 23/30\n",
            "245000/245000 [==============================] - 4s 17us/step - loss: 0.9998 - acc: 0.6373 - val_loss: 1.0259 - val_acc: 0.6333\n",
            "Epoch 24/30\n",
            "245000/245000 [==============================] - 4s 17us/step - loss: 0.9989 - acc: 0.6375 - val_loss: 1.0255 - val_acc: 0.6332\n",
            "Epoch 25/30\n",
            "245000/245000 [==============================] - 4s 17us/step - loss: 0.9983 - acc: 0.6377 - val_loss: 1.0265 - val_acc: 0.6329\n",
            "Epoch 26/30\n",
            "245000/245000 [==============================] - 4s 17us/step - loss: 0.9969 - acc: 0.6387 - val_loss: 1.0275 - val_acc: 0.6320\n",
            "Epoch 27/30\n",
            "245000/245000 [==============================] - 4s 17us/step - loss: 0.9967 - acc: 0.6385 - val_loss: 1.0263 - val_acc: 0.6326\n",
            "Epoch 28/30\n",
            "245000/245000 [==============================] - 4s 17us/step - loss: 0.9956 - acc: 0.6388 - val_loss: 1.0274 - val_acc: 0.6320\n",
            "Epoch 29/30\n",
            "245000/245000 [==============================] - 4s 17us/step - loss: 0.9952 - acc: 0.6388 - val_loss: 1.0269 - val_acc: 0.6330\n",
            "Epoch 30/30\n",
            "245000/245000 [==============================] - 4s 17us/step - loss: 0.9949 - acc: 0.6393 - val_loss: 1.0287 - val_acc: 0.6321\n"
          ],
          "name": "stdout"
        }
      ]
    },
    {
      "cell_type": "code",
      "metadata": {
        "id": "BTfcjnGFnuoG",
        "colab": {
          "base_uri": "https://localhost:8080/",
          "height": 295
        },
        "outputId": "5577f259-cf1e-497f-b152-2ea7d62567c7"
      },
      "source": [
        "plt.plot(history.history['acc'])\n",
        "plt.plot(history.history['val_acc'])\n",
        "plt.title('model accuracy for review_title')\n",
        "plt.ylabel('accuracy')\n",
        "plt.yscale('linear')\n",
        "plt.ylim((0.5,1))\n",
        "plt.xlabel('epoch')\n",
        "plt.legend(['train set', 'test set'], loc='upper left')\n",
        "plt.show()"
      ],
      "execution_count": null,
      "outputs": [
        {
          "output_type": "display_data",
          "data": {
            "image/png": "[encoded data removed]",
            "text/plain": [
              "<Figure size 432x288 with 1 Axes>"
            ]
          },
          "metadata": {
            "tags": []
          }
        }
      ]
    },
    {
      "cell_type": "markdown",
      "metadata": {
        "id": "ESTrsXmlu7Rm"
      },
      "source": [
        ">Comments on Glove Model.\n",
        "\n",
        "1. For glove, we see that there is barely any difference between the training set and testing set for our model on review_headline \n",
        "\n",
        "2. We believe that using external embeddings could help reduce the problem of overfitting\n",
        "\n",
        "3. A similar difference of less than ~4% was observed for glove model on review_body "
      ]
    },
    {
      "cell_type": "markdown",
      "metadata": {
        "id": "hFnMHhaztMxk"
      },
      "source": [
        "## Benchmark model - Logistic Regression on Review Headline"
      ]
    },
    {
      "cell_type": "code",
      "metadata": {
        "id": "-euEd5EctL-E"
      },
      "source": [
        "from sklearn.model_selection import train_test_split\n",
        "from sklearn.feature_extraction.text import CountVectorizer\n",
        "from sklearn.feature_extraction.text import TfidfTransformer\n",
        "from sklearn.naive_bayes import MultinomialNB\n",
        "\n",
        "\n",
        "from sklearn.model_selection import train_test_split\n",
        "X_train, X_test, y_train, y_test = train_test_split(train2['review_headline'],train2['star_rating'], test_size=0.30, random_state=9)"
      ],
      "execution_count": null,
      "outputs": []
    },
    {
      "cell_type": "code",
      "metadata": {
        "id": "4rpMngmJtYQ9"
      },
      "source": [
        "vectorizer = CountVectorizer()\n",
        "vectorizer.fit(X_train)\n",
        "\n",
        "X_train = vectorizer.transform(X_train)\n",
        "X_test  = vectorizer.transform(X_test)"
      ],
      "execution_count": null,
      "outputs": []
    },
    {
      "cell_type": "code",
      "metadata": {
        "id": "QYyTjpg4tbfd",
        "colab": {
          "base_uri": "https://localhost:8080/",
          "height": 34
        },
        "outputId": "6bd4aaa4-c1d4-4a3d-9473-883363072c7f"
      },
      "source": [
        "from sklearn.linear_model import LogisticRegression\n",
        "\n",
        "import warnings \n",
        "warnings.filterwarnings('ignore')\n",
        "\n",
        "classifier = LogisticRegression(solver=\"lbfgs\", multi_class=\"multinomial\")\n",
        "classifier.fit(X_train, y_train)\n",
        "score_lr = classifier.score(X_test, y_test)\n",
        "\n",
        "print(\"Accuracy:\", score_lr)"
      ],
      "execution_count": null,
      "outputs": [
        {
          "output_type": "stream",
          "text": [
            "Accuracy: 0.6599\n"
          ],
          "name": "stdout"
        }
      ]
    },
    {
      "cell_type": "markdown",
      "metadata": {
        "id": "SAYWvD0pO_BW"
      },
      "source": [
        "## Conclusion\n",
        "\n",
        "**Accuracies and comparisons**\n",
        "\n",
        "**1. Analysis on Review_Body**  (vector-length 100):\n",
        "<br> Logistic Regression Accuracy : 0.65\n",
        "<br> Glove Neural Network : 0.63\n",
        "<br> 100-length vector representation model without relu : 0.60\n",
        "<br> 100-length vector representation model with relu: 0.635\n",
        "\n",
        "**2. Analysis on Review_headline** (vector-length 50 for non glove embeddings, 100 for glove embeddings):\n",
        "<br> Logistic Regression Accuracy : 0.659\n",
        "<br> Glove Neural Network : 0.63\n",
        "<br> 100-length vector representation model without relu : 0.62\n",
        "<br> 100-length vector representation model with relu: 0.63\n",
        "\n",
        "The main difference between both the above analyses is that:\n",
        "1. Various different combinations of epoch and batch size were tried\n",
        "2. For review_headline, a much higher dropout was used leading to significantly better results\n",
        "3. The difference between accuracies of training and test dataset for review_headline is much 'acceptable' than review_body models.\n",
        "\n",
        "Out of all three of them, logistic regression performs slightly better than our neural networks by just count tokenizer. However, these results could change if better activation functions, drop outs, grid size and epochs are defined. \n",
        "\n",
        "One of the main reasons for this according to us could be:\n",
        "- Due to computational issues, we decided to skip combining review_body and review_headline together\n",
        "- However, different variables like counting the total number of words in review_body and so on could be tried and achieved a higher output.\n",
        "- Combining the helpful_votes and total_votes\n",
        "\n",
        "<br> Depending on the business needs, time at hand, human and data resources available, it makes sense to decide whether to go for complex models or not. \n",
        "<br>Combining the entire text, other variables together might lead to higher accuracy. "
      ]
    },
    {
      "cell_type": "markdown",
      "metadata": {
        "id": "rahuipARxi47"
      },
      "source": [
        "## Data Upload Preparation\n",
        "> Applying this model on dataset to be uploaded basically these steps to be used for everything\n",
        "> We decided to go ahead with review title, since it is computationally less heavy and predictions can be applied on review title of unknown dataset given to us. \n",
        "> We have trained our model on ~350,000 rows for review_headline but only ~70,000 for review_body Hence, going ahead with review_headline makes more sense. \n",
        "\n",
        "\n",
        "\n",
        "\n",
        "\n"
      ]
    },
    {
      "cell_type": "code",
      "metadata": {
        "id": "XZmKQvK0xiVx"
      },
      "source": [
        "uploaddata=pd.read_csv('MC2test.csv')\n",
        "uploaddata.review_headline=uploaddata.review_headline.astype(str)\n",
        "\n",
        "uploadheadline=uploaddata['review_headline']\n",
        "uploadproductid=uploaddata['product_id']\n",
        "\n"
      ],
      "execution_count": null,
      "outputs": []
    },
    {
      "cell_type": "code",
      "metadata": {
        "id": "asLeWxrwdIw4"
      },
      "source": [
        "uploadheadline = uploadheadline.map(lambda x: clean_text(x))\n"
      ],
      "execution_count": null,
      "outputs": []
    },
    {
      "cell_type": "code",
      "metadata": {
        "id": "rgeAqhwQei6-"
      },
      "source": [
        "vocabulary_size = 50000\n",
        "tokenizer = Tokenizer(num_words= vocabulary_size)\n",
        "tokenizer.fit_on_texts(uploadheadline)\n",
        "sequences2 = tokenizer.texts_to_sequences(uploadheadline)\n",
        "UD = pad_sequences(sequences2, maxlen=50)"
      ],
      "execution_count": null,
      "outputs": []
    },
    {
      "cell_type": "code",
      "metadata": {
        "id": "L9FJvcXyfQNx"
      },
      "source": [
        "#Using Review Headline Model without glove since the accuracy is more or less the same. \n",
        "prediction = model_conv.predict_classes(UD)\n",
        "\n"
      ],
      "execution_count": null,
      "outputs": []
    },
    {
      "cell_type": "code",
      "metadata": {
        "id": "GEsXyqMhaMbG"
      },
      "source": [
        "#Have to add +1 to predictions since Python recognizes it as 0 to 4 rather than 1 to 5\n",
        "upload_predictions= pd.DataFrame({'product_id':uploadproductid, 'star_rating':prediction+1})\n",
        "\n",
        "from google.colab import files\n",
        "\n",
        "upload_predictions.to_csv('MC2_Nexttopmodel_ReviewHeadline.csv')\n",
        "\n",
        "\n",
        "from google.colab import files\n",
        "files.download('MC2_Nexttopmodel_ReviewHeadline.csv')"
      ],
      "execution_count": null,
      "outputs": []
    }
  ]
}